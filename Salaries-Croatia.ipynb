{
 "cells": [
  {
   "cell_type": "code",
   "execution_count": 1,
   "metadata": {},
   "outputs": [],
   "source": [
    "import math\n",
    "import matplotlib.pyplot as plt\n",
    "import numpy as np\n",
    "import pandas as pd"
   ]
  },
  {
   "cell_type": "markdown",
   "metadata": {},
   "source": [
    "## This project bases on simple operations on data regarding gross average salaries in Croatia grouped by specific branches. "
   ]
  },
  {
   "cell_type": "markdown",
   "metadata": {},
   "source": [
    "## The dataset was published by Croatian Bureau of Statistics "
   ]
  },
  {
   "cell_type": "markdown",
   "metadata": {},
   "source": [
    "## https://www.dzs.hr/default_e.htm "
   ]
  },
  {
   "cell_type": "markdown",
   "metadata": {},
   "source": [
    "## Dataset's link: https://www.dzs.hr/Hrv_Eng/Pokazatelji/Zaposlenost%20i%20place/Place.xlsx"
   ]
  },
  {
   "cell_type": "code",
   "execution_count": 2,
   "metadata": {},
   "outputs": [],
   "source": [
    "# Function for preparing a dataframe\n",
    "\n",
    "def createDf(sheet_name):\n",
    "    df = pd.read_excel(xlsx, sheet_name=sheet_name, skiprows=5, usecols=range(4,100))\n",
    "    df.rename(columns={'Unnamed: 4' : 'Branch'}, inplace=True)\n",
    "    df.set_index('Branch', inplace=True)\n",
    "    df.replace('-', np.nan, inplace=True)\n",
    "    df.dropna(inplace=True)\n",
    "    return df"
   ]
  },
  {
   "cell_type": "code",
   "execution_count": 3,
   "metadata": {},
   "outputs": [],
   "source": [
    "\n",
    "# Variable for the file object\n",
    "\n",
    "xlsx = pd.ExcelFile(\"~/Downloads/Place.xlsx\")\n",
    "\n",
    "\n",
    "\n",
    "### Data cleaning\n",
    "\n",
    "# XLSX sheet 1:\n",
    "\n",
    "df_net = createDf('9.3.1.')\n",
    "\n",
    "# XLSX sheet 2:\n",
    "\n",
    "df_gross = createDf('9.3.3.')\n",
    "#df3 = df3[~df3.index.duplicated(keep='first')]\n",
    "df_gross = df_gross[~df_gross.index.duplicated(keep='first')]"
   ]
  },
  {
   "cell_type": "code",
   "execution_count": 4,
   "metadata": {},
   "outputs": [],
   "source": [
    "# Function for creating a bar graph\n",
    "\n",
    "def barGraph(x_label, y_label, legend=False):\n",
    "    fig = plt.figure()\n",
    "    ax = fig.add_axes([0,0,1,1])\n",
    "    ax.bar(x_label, y_label)\n",
    "    if legend:\n",
    "        ax.legend(legend)\n",
    "    plt.show()"
   ]
  },
  {
   "cell_type": "markdown",
   "metadata": {},
   "source": [
    "## Annual salaries (2015 - 2020)"
   ]
  },
  {
   "cell_type": "code",
   "execution_count": 5,
   "metadata": {},
   "outputs": [
    {
     "name": "stdout",
     "output_type": "stream",
     "text": [
      "\n",
      "The studied branches:\n",
      "\n",
      "\n",
      "1. Total\n",
      "2. Agriculture, forestry and fishing\n",
      "3. Crop and animal production, hunting and related service activities\n",
      "4. Forestry and logging\n",
      "5. Fishing and aquaculture\n",
      "6. Mining and quarrying\n",
      "7. Extraction of crude petroleum and natural gas\n",
      "8. Other mining and quarrying\n",
      "9. Mining support service activities\n",
      "10. Manufacturing\n",
      "11. Manufacture of food products\n",
      "12. Manufacture of beverages\n",
      "13. Manufacture of tobacco products\n",
      "14. Manufacture of textiles\n",
      "15. Manufacture of wearing apparel\n",
      "16. Manufacture of leather and related products\n",
      "17. Manufacture of wood and of products of wood and cork, except furniture; manufacture of articles of straw and plaiting materials\n",
      "18. Manufacture of paper and paper products\n",
      "19. Printing and reproduction of recorded media\n",
      "20. Manufacture of coke and refined petroleum products\n",
      "21. Manufacture of chemicals and chemical products\n",
      "22. Manufacture of basic pharmaceutical products and  pharmaceutical preparations\n",
      "23. Manufacture of rubber and plastic products\n",
      "24. Manufacture of other non-metallic mineral products\n",
      "25. Manufacture of basic metals\n",
      "26. Manufacture of fabricated metal products, except machinery and equipment\n",
      "27. Manufacture of computer, electronic and optical products\n",
      "28. Manufacture of electrical equipment\n",
      "29. Manufacture of machinery and equipment n. e. c.\n",
      "30. Manufacture of motor vehicles, trailers and semi-trailers\n",
      "31. Manufacture of other transport equipment\n",
      "32. Manufacture of furniture\n",
      "33. Other manufacturing\n",
      "34. Repair and installation of machinery and equipment\n",
      "35. Electricity, gas, steam and air conditioning supply\n",
      "36. Water supply; sewerage, waste management and remediation  activities\n",
      "37. Water collection, treatment and supply\n",
      "38. Sewerage\n",
      "39. Waste collection, treatment and disposal activities; materials  recovery\n",
      "40. Remediation activities and other waste management services\n",
      "41. Construction\n",
      "42. Construction of buildings\n",
      "43. Civil engineering\n",
      "44. Specialised construction activities\n",
      "45. Wholesale and retail trade; repair of motor vehicles and motorcycles\n",
      "46. Wholesale and retail trade and repair of motor vehicles and  motorcycles\n",
      "47. Wholesale trade, except of motor vehicles and  motorcycles\n",
      "48. Retail trade, except of motor vehicles and motorcycles\n",
      "49. Transportation and storage\n",
      "50. Land transport and transport via pipelines\n",
      "51. Water transport\n",
      "52. Air transport\n",
      "53. Warehousing and support activities for transportation\n",
      "54. Postal and courier activities\n",
      "55. Accommodation and food service activities\n",
      "56. Accommodation\n",
      "57. Food and beverage service activities\n",
      "58. Information and communication\n",
      "59. Publishing activities\n",
      "60. Motion picture, video and television programme production, sound recording and music publishing activities\n",
      "61. Programming and broadcasting activities\n",
      "62. Telecommunications\n",
      "63. Computer programming, consultancy and related activities\n",
      "64. Information service activities\n",
      "65. Financial and insurance activities\n",
      "66. Financial service activities, except insurance and pension funding\n",
      "67. Insurance, reinsurance and pension funding, except compulsory social security\n",
      "68. Activities auxiliary to financial services and insurance activities\n",
      "69. Real estate activities\n",
      "70. Professional, scientific and technical activities\n",
      "71. Legal and accounting activities\n",
      "72. Activities of head offices; management consultancy activities\n",
      "73. Architectural and engineering activities; technical testing and analysis\n",
      "74. Scientific research and development\n",
      "75. Advertising and market research\n",
      "76. Other professional, scientific and technical activities\n",
      "77. Veterinary activities\n",
      "78. Administrative and support service activities\n",
      "79. Rental and leasing activities\n",
      "80. Employment activities\n",
      "81. Travel agency, tour operator reservation service and related activities\n",
      "82. Security and investigation activities\n",
      "83. Services to buildings and landscape activities\n",
      "84. Office administrative, office support and other business support activities\n",
      "85. Public administration and defence; compulsory social security\n",
      "86. Education\n",
      "87. Human health and social work activities\n",
      "88. Human health activities\n",
      "89. Residential care activities\n",
      "90. Social work activities without accommodation\n",
      "91. Arts, entertainment and recreation\n",
      "92. Creative, arts and entertainment activities\n",
      "93. Libraries, archives, museums and other cultural activities\n",
      "94. Gambling and betting activities\n",
      "95. Sports activities and amusement and recreation activities\n",
      "96. Other service activities\n",
      "97. Activities of membership organisations\n",
      "98. Repair of computers and personal and household goods\n",
      "99. Other personal service activities\n"
     ]
    }
   ],
   "source": [
    "# Branches of this research\n",
    "\n",
    "print(\"\\nThe studied branches:\\n\\n\")\n",
    "#count = 0\n",
    "for count, item in enumerate(df_gross.index):\n",
    "    #count += 1\n",
    "    print(f\"{count + 1}. {item}\")"
   ]
  },
  {
   "cell_type": "code",
   "execution_count": 6,
   "metadata": {},
   "outputs": [
    {
     "data": {
      "image/png": "[encoded data removed]",
      "text/plain": [
       "<Figure size 432x288 with 1 Axes>"
      ]
     },
     "metadata": {
      "needs_background": "light"
     },
     "output_type": "display_data"
    }
   ],
   "source": [
    "# Additional dataframe consisiting of annual data: 2015-2020\n",
    "\n",
    "df_2015_2020_gross = df_gross[['Ø 2015.', 'Ø 2016.', 'Ø 2017.', 'Ø 2018.', 'Ø 2019.', 'Ø 2020.']].copy()\n",
    "df_2015_2020_gross.columns=['2015', '2016', '2017', '2018', '2019', '2020']\n",
    "total = df_2015_2020_gross.iloc[0]\n",
    "df_2015_2020_gross.drop(['Total'], axis=0, inplace=True)\n",
    "\n",
    "\n",
    "# Adjusted mean salaries - mean of all branches calculated by usining the Pandas library function:\n",
    "\n",
    "mean_s1 = df_2015_2020_gross.mean()\n",
    "mean_df_gross = mean_s1.to_frame().T\n",
    "\n",
    "\n",
    "# Bar graph\n",
    "\n",
    "barGraph(mean_df_gross.columns, mean_df_gross.iloc[0], legend=['Average gross salary'])"
   ]
  },
  {
   "cell_type": "code",
   "execution_count": 7,
   "metadata": {},
   "outputs": [
    {
     "data": {
      "text/html": [
       "<div>\n",
       "<style scoped>\n",
       "    .dataframe tbody tr th:only-of-type {\n",
       "        vertical-align: middle;\n",
       "    }\n",
       "\n",
       "    .dataframe tbody tr th {\n",
       "        vertical-align: top;\n",
       "    }\n",
       "\n",
       "    .dataframe thead th {\n",
       "        text-align: right;\n",
       "    }\n",
       "</style>\n",
       "<table border=\"1\" class=\"dataframe\">\n",
       "  <thead>\n",
       "    <tr style=\"text-align: right;\">\n",
       "      <th></th>\n",
       "      <th>2015</th>\n",
       "      <th>2016</th>\n",
       "      <th>2017</th>\n",
       "      <th>2018</th>\n",
       "      <th>2019</th>\n",
       "      <th>2020</th>\n",
       "    </tr>\n",
       "  </thead>\n",
       "  <tbody>\n",
       "    <tr>\n",
       "      <th>Mean</th>\n",
       "      <td>7875.397959</td>\n",
       "      <td>8081.55102</td>\n",
       "      <td>8348.918367</td>\n",
       "      <td>8776.918367</td>\n",
       "      <td>9102.408163</td>\n",
       "      <td>9329.153061</td>\n",
       "    </tr>\n",
       "  </tbody>\n",
       "</table>\n",
       "</div>"
      ],
      "text/plain": [
       "             2015        2016         2017         2018         2019  \\\n",
       "Mean  7875.397959  8081.55102  8348.918367  8776.918367  9102.408163   \n",
       "\n",
       "             2020  \n",
       "Mean  9329.153061  "
      ]
     },
     "execution_count": 7,
     "metadata": {},
     "output_type": "execute_result"
    }
   ],
   "source": [
    "mean_df_gross.index = ['Mean']\n",
    "mean_df_gross"
   ]
  },
  {
   "cell_type": "markdown",
   "metadata": {},
   "source": [
    "### Min/Max & Range"
   ]
  },
  {
   "cell_type": "markdown",
   "metadata": {},
   "source": [
    "#### Maximal salaries"
   ]
  },
  {
   "cell_type": "code",
   "execution_count": 8,
   "metadata": {},
   "outputs": [
    {
     "data": {
      "text/html": [
       "<div>\n",
       "<style scoped>\n",
       "    .dataframe tbody tr th:only-of-type {\n",
       "        vertical-align: middle;\n",
       "    }\n",
       "\n",
       "    .dataframe tbody tr th {\n",
       "        vertical-align: top;\n",
       "    }\n",
       "\n",
       "    .dataframe thead th {\n",
       "        text-align: right;\n",
       "    }\n",
       "</style>\n",
       "<table border=\"1\" class=\"dataframe\">\n",
       "  <thead>\n",
       "    <tr style=\"text-align: right;\">\n",
       "      <th></th>\n",
       "      <th>max</th>\n",
       "    </tr>\n",
       "  </thead>\n",
       "  <tbody>\n",
       "    <tr>\n",
       "      <th>2015</th>\n",
       "      <td>15219.0</td>\n",
       "    </tr>\n",
       "    <tr>\n",
       "      <th>2016</th>\n",
       "      <td>15751.0</td>\n",
       "    </tr>\n",
       "    <tr>\n",
       "      <th>2017</th>\n",
       "      <td>15378.0</td>\n",
       "    </tr>\n",
       "    <tr>\n",
       "      <th>2018</th>\n",
       "      <td>15745.0</td>\n",
       "    </tr>\n",
       "    <tr>\n",
       "      <th>2019</th>\n",
       "      <td>16638.0</td>\n",
       "    </tr>\n",
       "    <tr>\n",
       "      <th>2020</th>\n",
       "      <td>16397.0</td>\n",
       "    </tr>\n",
       "  </tbody>\n",
       "</table>\n",
       "</div>"
      ],
      "text/plain": [
       "          max\n",
       "2015  15219.0\n",
       "2016  15751.0\n",
       "2017  15378.0\n",
       "2018  15745.0\n",
       "2019  16638.0\n",
       "2020  16397.0"
      ]
     },
     "execution_count": 8,
     "metadata": {},
     "output_type": "execute_result"
    }
   ],
   "source": [
    "max_df = df_2015_2020_gross.max().to_frame()\n",
    "max_df.columns = ['max']\n",
    "max_df"
   ]
  },
  {
   "cell_type": "markdown",
   "metadata": {},
   "source": [
    "#### Minimal salaries"
   ]
  },
  {
   "cell_type": "code",
   "execution_count": 9,
   "metadata": {},
   "outputs": [
    {
     "data": {
      "text/html": [
       "<div>\n",
       "<style scoped>\n",
       "    .dataframe tbody tr th:only-of-type {\n",
       "        vertical-align: middle;\n",
       "    }\n",
       "\n",
       "    .dataframe tbody tr th {\n",
       "        vertical-align: top;\n",
       "    }\n",
       "\n",
       "    .dataframe thead th {\n",
       "        text-align: right;\n",
       "    }\n",
       "</style>\n",
       "<table border=\"1\" class=\"dataframe\">\n",
       "  <thead>\n",
       "    <tr style=\"text-align: right;\">\n",
       "      <th></th>\n",
       "      <th>min</th>\n",
       "    </tr>\n",
       "  </thead>\n",
       "  <tbody>\n",
       "    <tr>\n",
       "      <th>2015</th>\n",
       "      <td>4077.0</td>\n",
       "    </tr>\n",
       "    <tr>\n",
       "      <th>2016</th>\n",
       "      <td>4223.0</td>\n",
       "    </tr>\n",
       "    <tr>\n",
       "      <th>2017</th>\n",
       "      <td>4482.0</td>\n",
       "    </tr>\n",
       "    <tr>\n",
       "      <th>2018</th>\n",
       "      <td>4954.0</td>\n",
       "    </tr>\n",
       "    <tr>\n",
       "      <th>2019</th>\n",
       "      <td>5388.0</td>\n",
       "    </tr>\n",
       "    <tr>\n",
       "      <th>2020</th>\n",
       "      <td>5683.0</td>\n",
       "    </tr>\n",
       "  </tbody>\n",
       "</table>\n",
       "</div>"
      ],
      "text/plain": [
       "         min\n",
       "2015  4077.0\n",
       "2016  4223.0\n",
       "2017  4482.0\n",
       "2018  4954.0\n",
       "2019  5388.0\n",
       "2020  5683.0"
      ]
     },
     "execution_count": 9,
     "metadata": {},
     "output_type": "execute_result"
    }
   ],
   "source": [
    "min_df = df_2015_2020_gross.min().to_frame()\n",
    "min_df.columns = ['min']\n",
    "min_df"
   ]
  },
  {
   "cell_type": "code",
   "execution_count": 10,
   "metadata": {},
   "outputs": [
    {
     "data": {
      "text/html": [
       "<div>\n",
       "<style scoped>\n",
       "    .dataframe tbody tr th:only-of-type {\n",
       "        vertical-align: middle;\n",
       "    }\n",
       "\n",
       "    .dataframe tbody tr th {\n",
       "        vertical-align: top;\n",
       "    }\n",
       "\n",
       "    .dataframe thead th {\n",
       "        text-align: right;\n",
       "    }\n",
       "</style>\n",
       "<table border=\"1\" class=\"dataframe\">\n",
       "  <thead>\n",
       "    <tr style=\"text-align: right;\">\n",
       "      <th></th>\n",
       "      <th>max</th>\n",
       "      <th>min</th>\n",
       "    </tr>\n",
       "  </thead>\n",
       "  <tbody>\n",
       "    <tr>\n",
       "      <th>2015</th>\n",
       "      <td>15219.0</td>\n",
       "      <td>4077.0</td>\n",
       "    </tr>\n",
       "    <tr>\n",
       "      <th>2016</th>\n",
       "      <td>15751.0</td>\n",
       "      <td>4223.0</td>\n",
       "    </tr>\n",
       "    <tr>\n",
       "      <th>2017</th>\n",
       "      <td>15378.0</td>\n",
       "      <td>4482.0</td>\n",
       "    </tr>\n",
       "    <tr>\n",
       "      <th>2018</th>\n",
       "      <td>15745.0</td>\n",
       "      <td>4954.0</td>\n",
       "    </tr>\n",
       "    <tr>\n",
       "      <th>2019</th>\n",
       "      <td>16638.0</td>\n",
       "      <td>5388.0</td>\n",
       "    </tr>\n",
       "    <tr>\n",
       "      <th>2020</th>\n",
       "      <td>16397.0</td>\n",
       "      <td>5683.0</td>\n",
       "    </tr>\n",
       "  </tbody>\n",
       "</table>\n",
       "</div>"
      ],
      "text/plain": [
       "          max     min\n",
       "2015  15219.0  4077.0\n",
       "2016  15751.0  4223.0\n",
       "2017  15378.0  4482.0\n",
       "2018  15745.0  4954.0\n",
       "2019  16638.0  5388.0\n",
       "2020  16397.0  5683.0"
      ]
     },
     "execution_count": 10,
     "metadata": {},
     "output_type": "execute_result"
    }
   ],
   "source": [
    "min_max = max_df.join(min_df)\n",
    "min_max"
   ]
  },
  {
   "cell_type": "code",
   "execution_count": 11,
   "metadata": {},
   "outputs": [
    {
     "data": {
      "text/plain": [
       "<matplotlib.legend.Legend at 0x7efcf00ebc70>"
      ]
     },
     "execution_count": 11,
     "metadata": {},
     "output_type": "execute_result"
    },
    {
     "data": {
      "image/png": "[encoded data removed]",
      "text/plain": [
       "<Figure size 432x288 with 1 Axes>"
      ]
     },
     "metadata": {
      "needs_background": "light"
     },
     "output_type": "display_data"
    }
   ],
   "source": [
    "ax = min_max.plot.bar(rot=0)\n",
    "ax.legend(loc='center left', bbox_to_anchor=(1.0, 0.5))"
   ]
  },
  {
   "cell_type": "markdown",
   "metadata": {},
   "source": [
    "#### Sectors with maximal salaries (2015 - 2020)"
   ]
  },
  {
   "cell_type": "code",
   "execution_count": 12,
   "metadata": {},
   "outputs": [
    {
     "data": {
      "text/html": [
       "<div>\n",
       "<style scoped>\n",
       "    .dataframe tbody tr th:only-of-type {\n",
       "        vertical-align: middle;\n",
       "    }\n",
       "\n",
       "    .dataframe tbody tr th {\n",
       "        vertical-align: top;\n",
       "    }\n",
       "\n",
       "    .dataframe thead th {\n",
       "        text-align: right;\n",
       "    }\n",
       "</style>\n",
       "<table border=\"1\" class=\"dataframe\">\n",
       "  <thead>\n",
       "    <tr style=\"text-align: right;\">\n",
       "      <th></th>\n",
       "      <th>Sector</th>\n",
       "      <th>Salaries</th>\n",
       "    </tr>\n",
       "  </thead>\n",
       "  <tbody>\n",
       "    <tr>\n",
       "      <th>2015</th>\n",
       "      <td>Air transport</td>\n",
       "      <td>15219.0</td>\n",
       "    </tr>\n",
       "    <tr>\n",
       "      <th>2016</th>\n",
       "      <td>Manufacture of coke and refined petroleum prod...</td>\n",
       "      <td>15751.0</td>\n",
       "    </tr>\n",
       "    <tr>\n",
       "      <th>2017</th>\n",
       "      <td>Air transport</td>\n",
       "      <td>15378.0</td>\n",
       "    </tr>\n",
       "    <tr>\n",
       "      <th>2018</th>\n",
       "      <td>Air transport</td>\n",
       "      <td>15745.0</td>\n",
       "    </tr>\n",
       "    <tr>\n",
       "      <th>2019</th>\n",
       "      <td>Air transport</td>\n",
       "      <td>16638.0</td>\n",
       "    </tr>\n",
       "    <tr>\n",
       "      <th>2020</th>\n",
       "      <td>Manufacture of coke and refined petroleum prod...</td>\n",
       "      <td>16397.0</td>\n",
       "    </tr>\n",
       "  </tbody>\n",
       "</table>\n",
       "</div>"
      ],
      "text/plain": [
       "                                                 Sector  Salaries\n",
       "2015                                      Air transport   15219.0\n",
       "2016  Manufacture of coke and refined petroleum prod...   15751.0\n",
       "2017                                      Air transport   15378.0\n",
       "2018                                      Air transport   15745.0\n",
       "2019                                      Air transport   16638.0\n",
       "2020  Manufacture of coke and refined petroleum prod...   16397.0"
      ]
     },
     "execution_count": 12,
     "metadata": {},
     "output_type": "execute_result"
    }
   ],
   "source": [
    "s_index = df_2015_2020_gross.idxmax(axis=0)\n",
    "s_max = df_2015_2020_gross.max()\n",
    "index_df = pd.DataFrame(s_index)\n",
    "index_df.columns = ['Sector']\n",
    "df_max = pd.DataFrame(s_max)\n",
    "df_max.columns = ['Salaries']\n",
    "index_df.join(df_max)"
   ]
  },
  {
   "cell_type": "markdown",
   "metadata": {},
   "source": [
    "#### Sectors with minimal salaries (2015 - 2020)"
   ]
  },
  {
   "cell_type": "code",
   "execution_count": 13,
   "metadata": {},
   "outputs": [
    {
     "data": {
      "text/html": [
       "<div>\n",
       "<style scoped>\n",
       "    .dataframe tbody tr th:only-of-type {\n",
       "        vertical-align: middle;\n",
       "    }\n",
       "\n",
       "    .dataframe tbody tr th {\n",
       "        vertical-align: top;\n",
       "    }\n",
       "\n",
       "    .dataframe thead th {\n",
       "        text-align: right;\n",
       "    }\n",
       "</style>\n",
       "<table border=\"1\" class=\"dataframe\">\n",
       "  <thead>\n",
       "    <tr style=\"text-align: right;\">\n",
       "      <th></th>\n",
       "      <th>Sector</th>\n",
       "      <th>Salaries</th>\n",
       "    </tr>\n",
       "  </thead>\n",
       "  <tbody>\n",
       "    <tr>\n",
       "      <th>2015</th>\n",
       "      <td>Manufacture of wearing apparel</td>\n",
       "      <td>4077.0</td>\n",
       "    </tr>\n",
       "    <tr>\n",
       "      <th>2016</th>\n",
       "      <td>Manufacture of wearing apparel</td>\n",
       "      <td>4223.0</td>\n",
       "    </tr>\n",
       "    <tr>\n",
       "      <th>2017</th>\n",
       "      <td>Manufacture of wearing apparel</td>\n",
       "      <td>4482.0</td>\n",
       "    </tr>\n",
       "    <tr>\n",
       "      <th>2018</th>\n",
       "      <td>Manufacture of leather and related products</td>\n",
       "      <td>4954.0</td>\n",
       "    </tr>\n",
       "    <tr>\n",
       "      <th>2019</th>\n",
       "      <td>Manufacture of leather and related products</td>\n",
       "      <td>5388.0</td>\n",
       "    </tr>\n",
       "    <tr>\n",
       "      <th>2020</th>\n",
       "      <td>Security and investigation activities</td>\n",
       "      <td>5683.0</td>\n",
       "    </tr>\n",
       "  </tbody>\n",
       "</table>\n",
       "</div>"
      ],
      "text/plain": [
       "                                           Sector  Salaries\n",
       "2015               Manufacture of wearing apparel    4077.0\n",
       "2016               Manufacture of wearing apparel    4223.0\n",
       "2017               Manufacture of wearing apparel    4482.0\n",
       "2018  Manufacture of leather and related products    4954.0\n",
       "2019  Manufacture of leather and related products    5388.0\n",
       "2020        Security and investigation activities    5683.0"
      ]
     },
     "execution_count": 13,
     "metadata": {},
     "output_type": "execute_result"
    }
   ],
   "source": [
    "s_index = df_2015_2020_gross.idxmin(axis=0)\n",
    "s_min = df_2015_2020_gross.min()\n",
    "index_df = pd.DataFrame(s_index)\n",
    "index_df.columns = ['Sector']\n",
    "df_min = pd.DataFrame(s_min)\n",
    "df_min.columns = ['Salaries']\n",
    "index_df.join(df_min)"
   ]
  },
  {
   "cell_type": "code",
   "execution_count": 14,
   "metadata": {},
   "outputs": [
    {
     "data": {
      "text/html": [
       "<div>\n",
       "<style scoped>\n",
       "    .dataframe tbody tr th:only-of-type {\n",
       "        vertical-align: middle;\n",
       "    }\n",
       "\n",
       "    .dataframe tbody tr th {\n",
       "        vertical-align: top;\n",
       "    }\n",
       "\n",
       "    .dataframe thead th {\n",
       "        text-align: right;\n",
       "    }\n",
       "</style>\n",
       "<table border=\"1\" class=\"dataframe\">\n",
       "  <thead>\n",
       "    <tr style=\"text-align: right;\">\n",
       "      <th></th>\n",
       "      <th>Range</th>\n",
       "    </tr>\n",
       "  </thead>\n",
       "  <tbody>\n",
       "    <tr>\n",
       "      <th>2015</th>\n",
       "      <td>11142.0</td>\n",
       "    </tr>\n",
       "    <tr>\n",
       "      <th>2016</th>\n",
       "      <td>11528.0</td>\n",
       "    </tr>\n",
       "    <tr>\n",
       "      <th>2017</th>\n",
       "      <td>10896.0</td>\n",
       "    </tr>\n",
       "    <tr>\n",
       "      <th>2018</th>\n",
       "      <td>10791.0</td>\n",
       "    </tr>\n",
       "    <tr>\n",
       "      <th>2019</th>\n",
       "      <td>11250.0</td>\n",
       "    </tr>\n",
       "    <tr>\n",
       "      <th>2020</th>\n",
       "      <td>10714.0</td>\n",
       "    </tr>\n",
       "  </tbody>\n",
       "</table>\n",
       "</div>"
      ],
      "text/plain": [
       "        Range\n",
       "2015  11142.0\n",
       "2016  11528.0\n",
       "2017  10896.0\n",
       "2018  10791.0\n",
       "2019  11250.0\n",
       "2020  10714.0"
      ]
     },
     "execution_count": 14,
     "metadata": {},
     "output_type": "execute_result"
    }
   ],
   "source": [
    "df_range = df_2015_2020_gross.max().to_frame() - df_2015_2020_gross.min().to_frame()\n",
    "df_range.columns = ['Range']\n",
    "df_range"
   ]
  },
  {
   "cell_type": "markdown",
   "metadata": {},
   "source": [
    "### Quartiles"
   ]
  },
  {
   "cell_type": "code",
   "execution_count": 15,
   "metadata": {},
   "outputs": [
    {
     "data": {
      "text/html": [
       "<div>\n",
       "<style scoped>\n",
       "    .dataframe tbody tr th:only-of-type {\n",
       "        vertical-align: middle;\n",
       "    }\n",
       "\n",
       "    .dataframe tbody tr th {\n",
       "        vertical-align: top;\n",
       "    }\n",
       "\n",
       "    .dataframe thead th {\n",
       "        text-align: right;\n",
       "    }\n",
       "</style>\n",
       "<table border=\"1\" class=\"dataframe\">\n",
       "  <thead>\n",
       "    <tr style=\"text-align: right;\">\n",
       "      <th></th>\n",
       "      <th>2015</th>\n",
       "      <th>2016</th>\n",
       "      <th>2017</th>\n",
       "      <th>2018</th>\n",
       "      <th>2019</th>\n",
       "      <th>2020</th>\n",
       "    </tr>\n",
       "  </thead>\n",
       "  <tbody>\n",
       "    <tr>\n",
       "      <th>Q1: 25%</th>\n",
       "      <td>6397.0</td>\n",
       "      <td>6454.0</td>\n",
       "      <td>6716.0</td>\n",
       "      <td>7282.0</td>\n",
       "      <td>7549.0</td>\n",
       "      <td>7603.0</td>\n",
       "    </tr>\n",
       "    <tr>\n",
       "      <th>Median: 50%</th>\n",
       "      <td>7519.0</td>\n",
       "      <td>7690.0</td>\n",
       "      <td>7885.0</td>\n",
       "      <td>8211.0</td>\n",
       "      <td>8564.0</td>\n",
       "      <td>8571.0</td>\n",
       "    </tr>\n",
       "    <tr>\n",
       "      <th>Q3: 75%</th>\n",
       "      <td>8988.0</td>\n",
       "      <td>9129.0</td>\n",
       "      <td>9447.0</td>\n",
       "      <td>9900.0</td>\n",
       "      <td>10229.0</td>\n",
       "      <td>10533.0</td>\n",
       "    </tr>\n",
       "  </tbody>\n",
       "</table>\n",
       "</div>"
      ],
      "text/plain": [
       "               2015    2016    2017    2018     2019     2020\n",
       "Q1: 25%      6397.0  6454.0  6716.0  7282.0   7549.0   7603.0\n",
       "Median: 50%  7519.0  7690.0  7885.0  8211.0   8564.0   8571.0\n",
       "Q3: 75%      8988.0  9129.0  9447.0  9900.0  10229.0  10533.0"
      ]
     },
     "execution_count": 15,
     "metadata": {},
     "output_type": "execute_result"
    }
   ],
   "source": [
    "q_buildin = df_2015_2020_gross.quantile([0.25, 0.5, 0.75], interpolation='higher')\n",
    "q_buildin.index = ['Q1: 25%', 'Median: 50%', 'Q3: 75%']\n",
    "q_buildin"
   ]
  },
  {
   "cell_type": "markdown",
   "metadata": {},
   "source": [
    "#### Counting manually"
   ]
  },
  {
   "cell_type": "markdown",
   "metadata": {},
   "source": [
    "#### Lower Quartile"
   ]
  },
  {
   "cell_type": "code",
   "execution_count": 35,
   "metadata": {},
   "outputs": [
    {
     "data": {
      "text/html": [
       "<div>\n",
       "<style scoped>\n",
       "    .dataframe tbody tr th:only-of-type {\n",
       "        vertical-align: middle;\n",
       "    }\n",
       "\n",
       "    .dataframe tbody tr th {\n",
       "        vertical-align: top;\n",
       "    }\n",
       "\n",
       "    .dataframe thead th {\n",
       "        text-align: right;\n",
       "    }\n",
       "</style>\n",
       "<table border=\"1\" class=\"dataframe\">\n",
       "  <thead>\n",
       "    <tr style=\"text-align: right;\">\n",
       "      <th></th>\n",
       "      <th>Q1</th>\n",
       "    </tr>\n",
       "  </thead>\n",
       "  <tbody>\n",
       "    <tr>\n",
       "      <th>2015</th>\n",
       "      <td>6401.500</td>\n",
       "    </tr>\n",
       "    <tr>\n",
       "      <th>2016</th>\n",
       "      <td>6584.750</td>\n",
       "    </tr>\n",
       "    <tr>\n",
       "      <th>2017</th>\n",
       "      <td>6991.250</td>\n",
       "    </tr>\n",
       "    <tr>\n",
       "      <th>2018</th>\n",
       "      <td>7401.750</td>\n",
       "    </tr>\n",
       "    <tr>\n",
       "      <th>2019</th>\n",
       "      <td>7648.750</td>\n",
       "    </tr>\n",
       "    <tr>\n",
       "      <th>2020</th>\n",
       "      <td>7941.250</td>\n",
       "    </tr>\n",
       "  </tbody>\n",
       "</table>\n",
       "</div>"
      ],
      "text/plain": [
       "           Q1\n",
       "2015 6401.500\n",
       "2016 6584.750\n",
       "2017 6991.250\n",
       "2018 7401.750\n",
       "2019 7648.750\n",
       "2020 7941.250"
      ]
     },
     "execution_count": 35,
     "metadata": {},
     "output_type": "execute_result"
    }
   ],
   "source": [
    "\n",
    "q1 = 0.25 * len(df_2015_2020_gross)\n",
    "\n",
    "q1 = df_2015_2020_gross.iloc[math.floor(q1-1)] + (0.75 * (df_2015_2020_gross.iloc[math.floor(q1)] - df_2015_2020_gross.iloc[math.floor(q1-1)]))\n",
    "q1 = q1.to_frame()\n",
    "q1.columns = ['Q1']\n",
    "q1"
   ]
  },
  {
   "cell_type": "code",
   "execution_count": 20,
   "metadata": {},
   "outputs": [],
   "source": [
    "#The outcomes of build-in Pandas/Numpy functions and \"manual\" counting, \n",
    "#just as the ways of counting quartiles, differ from each other"
   ]
  },
  {
   "cell_type": "markdown",
   "metadata": {},
   "source": [
    "### Variance and Standard Deviation"
   ]
  },
  {
   "cell_type": "markdown",
   "metadata": {},
   "source": [
    "#### Pandas build-in functions:"
   ]
  },
  {
   "cell_type": "code",
   "execution_count": 21,
   "metadata": {},
   "outputs": [],
   "source": [
    "pd.set_option('display.float_format', lambda x: '%.3f' % x)"
   ]
  },
  {
   "cell_type": "code",
   "execution_count": 22,
   "metadata": {},
   "outputs": [
    {
     "data": {
      "text/html": [
       "<div>\n",
       "<style scoped>\n",
       "    .dataframe tbody tr th:only-of-type {\n",
       "        vertical-align: middle;\n",
       "    }\n",
       "\n",
       "    .dataframe tbody tr th {\n",
       "        vertical-align: top;\n",
       "    }\n",
       "\n",
       "    .dataframe thead th {\n",
       "        text-align: right;\n",
       "    }\n",
       "</style>\n",
       "<table border=\"1\" class=\"dataframe\">\n",
       "  <thead>\n",
       "    <tr style=\"text-align: right;\">\n",
       "      <th></th>\n",
       "      <th>Variance</th>\n",
       "    </tr>\n",
       "  </thead>\n",
       "  <tbody>\n",
       "    <tr>\n",
       "      <th>2015</th>\n",
       "      <td>5804913.355</td>\n",
       "    </tr>\n",
       "    <tr>\n",
       "      <th>2016</th>\n",
       "      <td>6466715.198</td>\n",
       "    </tr>\n",
       "    <tr>\n",
       "      <th>2017</th>\n",
       "      <td>5961012.261</td>\n",
       "    </tr>\n",
       "    <tr>\n",
       "      <th>2018</th>\n",
       "      <td>5970224.014</td>\n",
       "    </tr>\n",
       "    <tr>\n",
       "      <th>2019</th>\n",
       "      <td>6416909.667</td>\n",
       "    </tr>\n",
       "    <tr>\n",
       "      <th>2020</th>\n",
       "      <td>6375631.224</td>\n",
       "    </tr>\n",
       "  </tbody>\n",
       "</table>\n",
       "</div>"
      ],
      "text/plain": [
       "        Variance\n",
       "2015 5804913.355\n",
       "2016 6466715.198\n",
       "2017 5961012.261\n",
       "2018 5970224.014\n",
       "2019 6416909.667\n",
       "2020 6375631.224"
      ]
     },
     "execution_count": 22,
     "metadata": {},
     "output_type": "execute_result"
    }
   ],
   "source": [
    "var1 = df_2015_2020_gross.var().to_frame()\n",
    "var1.columns=['Variance']\n",
    "var1"
   ]
  },
  {
   "cell_type": "code",
   "execution_count": 23,
   "metadata": {},
   "outputs": [
    {
     "data": {
      "text/html": [
       "<div>\n",
       "<style scoped>\n",
       "    .dataframe tbody tr th:only-of-type {\n",
       "        vertical-align: middle;\n",
       "    }\n",
       "\n",
       "    .dataframe tbody tr th {\n",
       "        vertical-align: top;\n",
       "    }\n",
       "\n",
       "    .dataframe thead th {\n",
       "        text-align: right;\n",
       "    }\n",
       "</style>\n",
       "<table border=\"1\" class=\"dataframe\">\n",
       "  <thead>\n",
       "    <tr style=\"text-align: right;\">\n",
       "      <th></th>\n",
       "      <th>Standard Deviation</th>\n",
       "    </tr>\n",
       "  </thead>\n",
       "  <tbody>\n",
       "    <tr>\n",
       "      <th>2015</th>\n",
       "      <td>2409.339</td>\n",
       "    </tr>\n",
       "    <tr>\n",
       "      <th>2016</th>\n",
       "      <td>2542.974</td>\n",
       "    </tr>\n",
       "    <tr>\n",
       "      <th>2017</th>\n",
       "      <td>2441.518</td>\n",
       "    </tr>\n",
       "    <tr>\n",
       "      <th>2018</th>\n",
       "      <td>2443.404</td>\n",
       "    </tr>\n",
       "    <tr>\n",
       "      <th>2019</th>\n",
       "      <td>2533.162</td>\n",
       "    </tr>\n",
       "    <tr>\n",
       "      <th>2020</th>\n",
       "      <td>2525.001</td>\n",
       "    </tr>\n",
       "  </tbody>\n",
       "</table>\n",
       "</div>"
      ],
      "text/plain": [
       "      Standard Deviation\n",
       "2015            2409.339\n",
       "2016            2542.974\n",
       "2017            2441.518\n",
       "2018            2443.404\n",
       "2019            2533.162\n",
       "2020            2525.001"
      ]
     },
     "execution_count": 23,
     "metadata": {},
     "output_type": "execute_result"
    }
   ],
   "source": [
    "std1 = df_2015_2020_gross.std().to_frame()\n",
    "std1.columns=['Standard Deviation']\n",
    "std1"
   ]
  },
  {
   "cell_type": "markdown",
   "metadata": {},
   "source": [
    "#### Manually, using the formulas\n",
    "#### Assumption: collected data is the sample"
   ]
  },
  {
   "cell_type": "markdown",
   "metadata": {},
   "source": [
    "### Variance"
   ]
  },
  {
   "cell_type": "code",
   "execution_count": 24,
   "metadata": {},
   "outputs": [
    {
     "data": {
      "text/plain": [
       "5804913.35545971"
      ]
     },
     "execution_count": 24,
     "metadata": {},
     "output_type": "execute_result"
    }
   ],
   "source": [
    "#Simple for loop for data from 2015\n",
    "difference = 0\n",
    "for item in df_2015_2020_gross['2015']:\n",
    "    difference += (item - df_2015_2020_gross['2015'].mean()) ** 2\n",
    "s_squared = difference / (len(df_2015_2020_gross['2015']) - 1)\n",
    "s_squared"
   ]
  },
  {
   "cell_type": "code",
   "execution_count": 25,
   "metadata": {},
   "outputs": [
    {
     "data": {
      "text/html": [
       "<div>\n",
       "<style scoped>\n",
       "    .dataframe tbody tr th:only-of-type {\n",
       "        vertical-align: middle;\n",
       "    }\n",
       "\n",
       "    .dataframe tbody tr th {\n",
       "        vertical-align: top;\n",
       "    }\n",
       "\n",
       "    .dataframe thead th {\n",
       "        text-align: right;\n",
       "    }\n",
       "</style>\n",
       "<table border=\"1\" class=\"dataframe\">\n",
       "  <thead>\n",
       "    <tr style=\"text-align: right;\">\n",
       "      <th></th>\n",
       "      <th>Variance</th>\n",
       "    </tr>\n",
       "  </thead>\n",
       "  <tbody>\n",
       "    <tr>\n",
       "      <th>2015</th>\n",
       "      <td>5804913.355</td>\n",
       "    </tr>\n",
       "    <tr>\n",
       "      <th>2016</th>\n",
       "      <td>6466715.198</td>\n",
       "    </tr>\n",
       "    <tr>\n",
       "      <th>2017</th>\n",
       "      <td>5961012.261</td>\n",
       "    </tr>\n",
       "    <tr>\n",
       "      <th>2018</th>\n",
       "      <td>5970224.014</td>\n",
       "    </tr>\n",
       "    <tr>\n",
       "      <th>2019</th>\n",
       "      <td>6416909.667</td>\n",
       "    </tr>\n",
       "    <tr>\n",
       "      <th>2020</th>\n",
       "      <td>6375631.224</td>\n",
       "    </tr>\n",
       "  </tbody>\n",
       "</table>\n",
       "</div>"
      ],
      "text/plain": [
       "        Variance\n",
       "2015 5804913.355\n",
       "2016 6466715.198\n",
       "2017 5961012.261\n",
       "2018 5970224.014\n",
       "2019 6416909.667\n",
       "2020 6375631.224"
      ]
     },
     "execution_count": 25,
     "metadata": {},
     "output_type": "execute_result"
    }
   ],
   "source": [
    "#Vectorized operation - usually much more efficient\n",
    "\n",
    "df_var = []\n",
    "for column in df_2015_2020_gross.columns:\n",
    "    df_var.append(sum((df_2015_2020_gross[column] - df_2015_2020_gross[column].mean()) ** 2) / (len(df_2015_2020_gross[column]) - 1))\n",
    "    \n",
    "df_var = pd.DataFrame(df_var)\n",
    "df_var.index = df_2015_2020_gross.columns\n",
    "df_var.columns = ['Variance']\n",
    "df_var"
   ]
  },
  {
   "cell_type": "markdown",
   "metadata": {},
   "source": [
    "### Standard Deviation"
   ]
  },
  {
   "cell_type": "code",
   "execution_count": 26,
   "metadata": {},
   "outputs": [
    {
     "data": {
      "text/html": [
       "<div>\n",
       "<style scoped>\n",
       "    .dataframe tbody tr th:only-of-type {\n",
       "        vertical-align: middle;\n",
       "    }\n",
       "\n",
       "    .dataframe tbody tr th {\n",
       "        vertical-align: top;\n",
       "    }\n",
       "\n",
       "    .dataframe thead th {\n",
       "        text-align: right;\n",
       "    }\n",
       "</style>\n",
       "<table border=\"1\" class=\"dataframe\">\n",
       "  <thead>\n",
       "    <tr style=\"text-align: right;\">\n",
       "      <th></th>\n",
       "      <th>Standard Deviation</th>\n",
       "    </tr>\n",
       "  </thead>\n",
       "  <tbody>\n",
       "    <tr>\n",
       "      <th>2015</th>\n",
       "      <td>2409.339</td>\n",
       "    </tr>\n",
       "    <tr>\n",
       "      <th>2016</th>\n",
       "      <td>2542.974</td>\n",
       "    </tr>\n",
       "    <tr>\n",
       "      <th>2017</th>\n",
       "      <td>2441.518</td>\n",
       "    </tr>\n",
       "    <tr>\n",
       "      <th>2018</th>\n",
       "      <td>2443.404</td>\n",
       "    </tr>\n",
       "    <tr>\n",
       "      <th>2019</th>\n",
       "      <td>2533.162</td>\n",
       "    </tr>\n",
       "    <tr>\n",
       "      <th>2020</th>\n",
       "      <td>2525.001</td>\n",
       "    </tr>\n",
       "  </tbody>\n",
       "</table>\n",
       "</div>"
      ],
      "text/plain": [
       "      Standard Deviation\n",
       "2015            2409.339\n",
       "2016            2542.974\n",
       "2017            2441.518\n",
       "2018            2443.404\n",
       "2019            2533.162\n",
       "2020            2525.001"
      ]
     },
     "execution_count": 26,
     "metadata": {},
     "output_type": "execute_result"
    }
   ],
   "source": [
    "#std is the (positive) square root of variance\n",
    "\n",
    "std_df = np.sqrt(df_var)\n",
    "std_df.columns = ['Standard Deviation']\n",
    "std_df"
   ]
  },
  {
   "cell_type": "markdown",
   "metadata": {},
   "source": [
    "### Variance between years"
   ]
  },
  {
   "cell_type": "code",
   "execution_count": 27,
   "metadata": {},
   "outputs": [
    {
     "name": "stdout",
     "output_type": "stream",
     "text": [
      "The variance between mean salaries in years 2015-2020 is: 334206.99\n"
     ]
    }
   ],
   "source": [
    "s = mean_df_gross.T.var()[0]\n",
    "print(f\"The variance between mean salaries in years 2015-2020 is: {round(s, 2)}\")"
   ]
  },
  {
   "cell_type": "markdown",
   "metadata": {},
   "source": [
    "### Standard Deviation between years"
   ]
  },
  {
   "cell_type": "code",
   "execution_count": 28,
   "metadata": {},
   "outputs": [
    {
     "name": "stdout",
     "output_type": "stream",
     "text": [
      "The standard deviation between mean salaries in years 2015-2020 is: 578.11\n"
     ]
    }
   ],
   "source": [
    "#Transposed dataframe of mean gross salaries in years 2015-2020 and the std:\n",
    "\n",
    "std_b_y = mean_df_gross.T.std()[0]\n",
    "print(f\"The standard deviation between mean salaries in years 2015-2020 is: {round(std_b_y, 2)}\")"
   ]
  },
  {
   "cell_type": "markdown",
   "metadata": {},
   "source": [
    "### Five-number Summary"
   ]
  },
  {
   "cell_type": "code",
   "execution_count": 29,
   "metadata": {},
   "outputs": [
    {
     "data": {
      "text/html": [
       "<div>\n",
       "<style scoped>\n",
       "    .dataframe tbody tr th:only-of-type {\n",
       "        vertical-align: middle;\n",
       "    }\n",
       "\n",
       "    .dataframe tbody tr th {\n",
       "        vertical-align: top;\n",
       "    }\n",
       "\n",
       "    .dataframe thead th {\n",
       "        text-align: right;\n",
       "    }\n",
       "</style>\n",
       "<table border=\"1\" class=\"dataframe\">\n",
       "  <thead>\n",
       "    <tr style=\"text-align: right;\">\n",
       "      <th></th>\n",
       "      <th>2015</th>\n",
       "      <th>2016</th>\n",
       "      <th>2017</th>\n",
       "      <th>2018</th>\n",
       "      <th>2019</th>\n",
       "      <th>2020</th>\n",
       "    </tr>\n",
       "  </thead>\n",
       "  <tbody>\n",
       "    <tr>\n",
       "      <th>count</th>\n",
       "      <td>98.000</td>\n",
       "      <td>98.000</td>\n",
       "      <td>98.000</td>\n",
       "      <td>98.000</td>\n",
       "      <td>98.000</td>\n",
       "      <td>98.000</td>\n",
       "    </tr>\n",
       "    <tr>\n",
       "      <th>mean</th>\n",
       "      <td>7875.398</td>\n",
       "      <td>8081.551</td>\n",
       "      <td>8348.918</td>\n",
       "      <td>8776.918</td>\n",
       "      <td>9102.408</td>\n",
       "      <td>9329.153</td>\n",
       "    </tr>\n",
       "    <tr>\n",
       "      <th>std</th>\n",
       "      <td>2409.339</td>\n",
       "      <td>2542.974</td>\n",
       "      <td>2441.518</td>\n",
       "      <td>2443.404</td>\n",
       "      <td>2533.162</td>\n",
       "      <td>2525.001</td>\n",
       "    </tr>\n",
       "    <tr>\n",
       "      <th>min</th>\n",
       "      <td>4077.000</td>\n",
       "      <td>4223.000</td>\n",
       "      <td>4482.000</td>\n",
       "      <td>4954.000</td>\n",
       "      <td>5388.000</td>\n",
       "      <td>5683.000</td>\n",
       "    </tr>\n",
       "    <tr>\n",
       "      <th>25%</th>\n",
       "      <td>6348.250</td>\n",
       "      <td>6385.000</td>\n",
       "      <td>6692.750</td>\n",
       "      <td>7208.500</td>\n",
       "      <td>7522.000</td>\n",
       "      <td>7557.250</td>\n",
       "    </tr>\n",
       "    <tr>\n",
       "      <th>50%</th>\n",
       "      <td>7486.000</td>\n",
       "      <td>7651.500</td>\n",
       "      <td>7879.500</td>\n",
       "      <td>8194.500</td>\n",
       "      <td>8555.500</td>\n",
       "      <td>8566.500</td>\n",
       "    </tr>\n",
       "    <tr>\n",
       "      <th>75%</th>\n",
       "      <td>8964.500</td>\n",
       "      <td>9107.000</td>\n",
       "      <td>9441.250</td>\n",
       "      <td>9865.750</td>\n",
       "      <td>10220.750</td>\n",
       "      <td>10508.750</td>\n",
       "    </tr>\n",
       "    <tr>\n",
       "      <th>max</th>\n",
       "      <td>15219.000</td>\n",
       "      <td>15751.000</td>\n",
       "      <td>15378.000</td>\n",
       "      <td>15745.000</td>\n",
       "      <td>16638.000</td>\n",
       "      <td>16397.000</td>\n",
       "    </tr>\n",
       "  </tbody>\n",
       "</table>\n",
       "</div>"
      ],
      "text/plain": [
       "           2015      2016      2017      2018      2019      2020\n",
       "count    98.000    98.000    98.000    98.000    98.000    98.000\n",
       "mean   7875.398  8081.551  8348.918  8776.918  9102.408  9329.153\n",
       "std    2409.339  2542.974  2441.518  2443.404  2533.162  2525.001\n",
       "min    4077.000  4223.000  4482.000  4954.000  5388.000  5683.000\n",
       "25%    6348.250  6385.000  6692.750  7208.500  7522.000  7557.250\n",
       "50%    7486.000  7651.500  7879.500  8194.500  8555.500  8566.500\n",
       "75%    8964.500  9107.000  9441.250  9865.750 10220.750 10508.750\n",
       "max   15219.000 15751.000 15378.000 15745.000 16638.000 16397.000"
      ]
     },
     "execution_count": 29,
     "metadata": {},
     "output_type": "execute_result"
    }
   ],
   "source": [
    "round(df_2015_2020_gross.describe(), 3)"
   ]
  },
  {
   "cell_type": "markdown",
   "metadata": {},
   "source": [
    "### Coefficient of Variation"
   ]
  },
  {
   "cell_type": "code",
   "execution_count": 30,
   "metadata": {},
   "outputs": [
    {
     "data": {
      "text/html": [
       "<div>\n",
       "<style scoped>\n",
       "    .dataframe tbody tr th:only-of-type {\n",
       "        vertical-align: middle;\n",
       "    }\n",
       "\n",
       "    .dataframe tbody tr th {\n",
       "        vertical-align: top;\n",
       "    }\n",
       "\n",
       "    .dataframe thead th {\n",
       "        text-align: right;\n",
       "    }\n",
       "</style>\n",
       "<table border=\"1\" class=\"dataframe\">\n",
       "  <thead>\n",
       "    <tr style=\"text-align: right;\">\n",
       "      <th></th>\n",
       "      <th>Coefficient of variation</th>\n",
       "      <th>Representation</th>\n",
       "    </tr>\n",
       "  </thead>\n",
       "  <tbody>\n",
       "    <tr>\n",
       "      <th>2015</th>\n",
       "      <td>30.437</td>\n",
       "      <td>The mean is not a good representative of data</td>\n",
       "    </tr>\n",
       "    <tr>\n",
       "      <th>2016</th>\n",
       "      <td>31.305</td>\n",
       "      <td>The mean is not a good representative of data</td>\n",
       "    </tr>\n",
       "    <tr>\n",
       "      <th>2017</th>\n",
       "      <td>29.094</td>\n",
       "      <td>The mean is a good representative of data</td>\n",
       "    </tr>\n",
       "    <tr>\n",
       "      <th>2018</th>\n",
       "      <td>27.697</td>\n",
       "      <td>The mean is a good representative of data</td>\n",
       "    </tr>\n",
       "    <tr>\n",
       "      <th>2019</th>\n",
       "      <td>27.687</td>\n",
       "      <td>The mean is a good representative of data</td>\n",
       "    </tr>\n",
       "    <tr>\n",
       "      <th>2020</th>\n",
       "      <td>26.927</td>\n",
       "      <td>The mean is a good representative of data</td>\n",
       "    </tr>\n",
       "  </tbody>\n",
       "</table>\n",
       "</div>"
      ],
      "text/plain": [
       "      Coefficient of variation                                 Representation\n",
       "2015                    30.437  The mean is not a good representative of data\n",
       "2016                    31.305  The mean is not a good representative of data\n",
       "2017                    29.094      The mean is a good representative of data\n",
       "2018                    27.697      The mean is a good representative of data\n",
       "2019                    27.687      The mean is a good representative of data\n",
       "2020                    26.927      The mean is a good representative of data"
      ]
     },
     "execution_count": 30,
     "metadata": {},
     "output_type": "execute_result"
    }
   ],
   "source": [
    "from scipy.stats import variation\n",
    "\n",
    "cv = variation(df_2015_2020_gross)\n",
    "df_cv = pd.DataFrame(cv * 100)\n",
    "df_cv.columns = [\"Coefficient of variation\"]\n",
    "df_cv.index = df_2015_2020_gross.columns\n",
    "df_cv['Representation'] = 'The mean is a good representative of data'\n",
    "df_cv.loc[df_cv['Coefficient of variation'] > 30, 'Representation'] = 'The mean is not a good representative of data'\n",
    "\n",
    "#Coeffient of variation in %\n",
    "\n",
    "df_cv"
   ]
  },
  {
   "cell_type": "code",
   "execution_count": 31,
   "metadata": {},
   "outputs": [
    {
     "data": {
      "text/html": [
       "<div>\n",
       "<style scoped>\n",
       "    .dataframe tbody tr th:only-of-type {\n",
       "        vertical-align: middle;\n",
       "    }\n",
       "\n",
       "    .dataframe tbody tr th {\n",
       "        vertical-align: top;\n",
       "    }\n",
       "\n",
       "    .dataframe thead th {\n",
       "        text-align: right;\n",
       "    }\n",
       "</style>\n",
       "<table border=\"1\" class=\"dataframe\">\n",
       "  <thead>\n",
       "    <tr style=\"text-align: right;\">\n",
       "      <th></th>\n",
       "      <th>Coefficient of variation (in %)</th>\n",
       "    </tr>\n",
       "  </thead>\n",
       "  <tbody>\n",
       "    <tr>\n",
       "      <th>2015</th>\n",
       "      <td>30.593</td>\n",
       "    </tr>\n",
       "    <tr>\n",
       "      <th>2016</th>\n",
       "      <td>31.466</td>\n",
       "    </tr>\n",
       "    <tr>\n",
       "      <th>2017</th>\n",
       "      <td>29.244</td>\n",
       "    </tr>\n",
       "    <tr>\n",
       "      <th>2018</th>\n",
       "      <td>27.839</td>\n",
       "    </tr>\n",
       "    <tr>\n",
       "      <th>2019</th>\n",
       "      <td>27.830</td>\n",
       "    </tr>\n",
       "    <tr>\n",
       "      <th>2020</th>\n",
       "      <td>27.066</td>\n",
       "    </tr>\n",
       "  </tbody>\n",
       "</table>\n",
       "</div>"
      ],
      "text/plain": [
       "      Coefficient of variation (in %)\n",
       "2015                           30.593\n",
       "2016                           31.466\n",
       "2017                           29.244\n",
       "2018                           27.839\n",
       "2019                           27.830\n",
       "2020                           27.066"
      ]
     },
     "execution_count": 31,
     "metadata": {},
     "output_type": "execute_result"
    }
   ],
   "source": [
    "cv2 = (df_2015_2020_gross.std() / df_2015_2020_gross.mean()) * 100\n",
    "cv2 = cv2.to_frame()\n",
    "cv2.columns = ['Coefficient of variation (in %)']\n",
    "cv2"
   ]
  },
  {
   "cell_type": "code",
   "execution_count": null,
   "metadata": {},
   "outputs": [],
   "source": []
  }
 ],
 "metadata": {
  "kernelspec": {
   "display_name": "Python 3",
   "language": "python",
   "name": "python3"
  },
  "language_info": {
   "codemirror_mode": {
    "name": "ipython",
    "version": 3
   },
   "file_extension": ".py",
   "mimetype": "text/x-python",
   "name": "python",
   "nbconvert_exporter": "python",
   "pygments_lexer": "ipython3",
   "version": "3.8.5"
  }
 },
 "nbformat": 4,
 "nbformat_minor": 4
}
